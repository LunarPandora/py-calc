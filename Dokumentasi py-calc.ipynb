{
 "cells": [
  {
   "cell_type": "markdown",
   "id": "c4c1e529",
   "metadata": {},
   "source": [
    "# py-calc\n",
    "\n",
    "EN : A simple calculator, built with Python (For learning purposes).\n",
    "\n",
    "ID : Kalkulator dengan operasi sederhana, dibuat dengan Python (Untuk keperluan pembelajaran).\n",
    "\n",
    "Catatan : Program lengkap dipisah menjadi dua bagian, yakni :\n",
    "\n",
    "     - calc_function.py -> Berisikan function-function operasi bilangan yang akan dibahas di dokumentasi ini.\n",
    "     - py-calc.py -> Program untuk mencoba setiap function dan cara kerja function beserta operasi yang ada.\n",
    "\n",
    "## Ringkasan / Summary\n",
    "\n",
    "Repository ini berisikan file pembelajaran Python mengenai operasi-operasi bilangan dalam bentuk program kalkulator sederhana. Operasi yang diinclude kedalam program ini antara lain :"
   ]
  },
  {
   "cell_type": "markdown",
   "id": "88b30669",
   "metadata": {},
   "source": [
    "### Pertambahan"
   ]
  },
  {
   "cell_type": "code",
   "execution_count": 1,
   "id": "a8c8d231",
   "metadata": {},
   "outputs": [
    {
     "name": "stdout",
     "output_type": "stream",
     "text": [
      "3\n"
     ]
    }
   ],
   "source": [
    "x = 1\n",
    "y = 2\n",
    "print(x + y)"
   ]
  },
  {
   "cell_type": "markdown",
   "id": "4e40f5c9",
   "metadata": {},
   "source": [
    "### Pengurangan"
   ]
  },
  {
   "cell_type": "code",
   "execution_count": 2,
   "id": "b38a54d1",
   "metadata": {},
   "outputs": [
    {
     "name": "stdout",
     "output_type": "stream",
     "text": [
      "1\n"
     ]
    }
   ],
   "source": [
    "x = 2\n",
    "y = 1\n",
    "print(x - y)"
   ]
  },
  {
   "cell_type": "markdown",
   "id": "59d679c2",
   "metadata": {},
   "source": [
    "### Perkalian"
   ]
  },
  {
   "cell_type": "code",
   "execution_count": 3,
   "id": "d6bef72e",
   "metadata": {},
   "outputs": [
    {
     "name": "stdout",
     "output_type": "stream",
     "text": [
      "2\n"
     ]
    }
   ],
   "source": [
    "x = 2\n",
    "y = 1\n",
    "print(x * y)"
   ]
  },
  {
   "cell_type": "markdown",
   "id": "977bf208",
   "metadata": {},
   "source": [
    "### Pembagian"
   ]
  },
  {
   "cell_type": "code",
   "execution_count": 6,
   "id": "7bccfdf2",
   "metadata": {},
   "outputs": [
    {
     "name": "stdout",
     "output_type": "stream",
     "text": [
      "2.0\n"
     ]
    }
   ],
   "source": [
    "x = 2\n",
    "y = 1\n",
    "print(x / y)"
   ]
  },
  {
   "cell_type": "markdown",
   "id": "5b5cad7c",
   "metadata": {},
   "source": [
    "### Perpangkatan"
   ]
  },
  {
   "cell_type": "code",
   "execution_count": 7,
   "id": "77f3e2cd",
   "metadata": {},
   "outputs": [
    {
     "name": "stdout",
     "output_type": "stream",
     "text": [
      "8\n"
     ]
    }
   ],
   "source": [
    "x = 2\n",
    "y = 3\n",
    "print(x ** y)"
   ]
  },
  {
   "cell_type": "markdown",
   "id": "a6fa708a",
   "metadata": {},
   "source": []
  }
 ],
 "metadata": {
  "kernelspec": {
   "display_name": "Python 3",
   "language": "python",
   "name": "python3"
  },
  "language_info": {
   "codemirror_mode": {
    "name": "ipython",
    "version": 3
   },
   "file_extension": ".py",
   "mimetype": "text/x-python",
   "name": "python",
   "nbconvert_exporter": "python",
   "pygments_lexer": "ipython3",
   "version": "3.8.8"
  }
 },
 "nbformat": 4,
 "nbformat_minor": 5
}
